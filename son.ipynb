{
 "cells": [
  {
   "cell_type": "markdown",
   "metadata": {},
   "source": [
    "\n",
    "Python'a Genel Bakış\n",
    "\n",
    "Python Nedir?\n",
    "Yüksek seviyeli, yorumlanan ve genel amaçlı bir programlama dili.\n",
    "Basit sözdizimi sayesinde öğrenmesi kolaydır.\n",
    "Geniş bir standart kütüphaneye sahiptir.\n",
    "\n",
    "Neden Python?\n",
    "Veri analizi ve görselleştirme için idealdir.\n",
    "Makine öğrenmesi ve derin öğrenme uygulamaları için popüler bir seçimdir.\n",
    "Web geliştirmede de sıkça kullanılır.\n",
    "\n",
    "Python'u Kurma ve Çalıştırma\n",
    "Anaconda dağıtımı: Veri bilimi ve makine öğrenmesi için popüler bir seçenektir.\n",
    "Jupyter Notebook: İnteraktif kod yazma ve görselleştirme için mükemmel bir araçtır.\n",
    "VS Code: Özellikle büyük projeler için kullanışlı bir kod editörüdür.\n",
    "Colab: Google tarafından sunulan, tarayıcınızda direkt olarak Python kodları yazıp \n",
    "çalıştırabileceğiniz ücretsiz ve açık kaynaklı bir platformdur. "
   ]
  },
  {
   "cell_type": "markdown",
   "metadata": {},
   "source": [
    "Python'da Yorum Ekleme Yolları\n",
    "\n",
    "Tek Satırlı Yorumlar (#)"
   ]
  },
  {
   "cell_type": "code",
   "execution_count": null,
   "metadata": {},
   "outputs": [],
   "source": [
    "# Bu bir yorum satırıdır.\n",
    "\n",
    "print(\"Merhaba, Dünya!\")   # print() fonksiyonu ekrana bir metin yazdırır."
   ]
  },
  {
   "cell_type": "markdown",
   "metadata": {},
   "source": [
    "Çok Satırlı Yorumlar  (''') yada (\"\"\")"
   ]
  },
  {
   "cell_type": "code",
   "execution_count": null,
   "metadata": {},
   "outputs": [],
   "source": [
    "\"\"\"\n",
    "Bu birden fazla satırdan oluşan bir yorumdur.\n",
    "Yorumlar kodun daha anlaşılır olmasını sağlar.\n",
    "\"\"\"\n",
    "\n",
    "print(\"Python eğlenceli!\")"
   ]
  },
  {
   "cell_type": "markdown",
   "metadata": {},
   "source": [
    "Visual Studio Code (VS Code)\n",
    "Tüm seçili satırları yorum yap: Ctrl+K Ctrl+C\n",
    "Tüm seçili satırlardaki yorumları kaldır: Ctrl+K Ctrl+U"
   ]
  },
  {
   "cell_type": "code",
   "execution_count": null,
   "metadata": {},
   "outputs": [],
   "source": [
    "Birden fazla satırı yorum yapma veya yorumdan çıkma kısayolu.\n",
    "\n",
    "(Ctrl + /)"
   ]
  },
  {
   "cell_type": "code",
   "execution_count": null,
   "metadata": {},
   "outputs": [],
   "source": [
    "Birden fazla satırı iceri alma yada dışarı alma kısayolu.\n",
    "\n",
    "satırları seç ve (Tab)\n",
    "satırları seç ve  (Shift + Tab)  "
   ]
  },
  {
   "cell_type": "markdown",
   "metadata": {},
   "source": [
    "Diğer kullanışlı kısa yollar.\n",
    "\n",
    "Satır Sonuna Git: Satırın sonuna gitmek için End tuşuna basabilirsiniz.\n",
    "Satır Başına Git: Satırın başına gitmek için Home tuşuna basabilirsiniz.\n",
    "Bir Sonraki Kelimeye Git: Ctrl+Right (veya Cmd+Right macOS'ta)\n",
    "Bir Önceki Kelimeye Git: Ctrl+Left (veya Cmd+Left macOS'ta)\n",
    "Satırı yukarı/aşağı taşı: Alt+Up/Down"
   ]
  },
  {
   "cell_type": "markdown",
   "metadata": {},
   "source": [
    "Temel Kavramlar ve Uygulamalar\n",
    "Veri Tipleri\n",
    "Tam sayılar (integer), ondalıklı sayılar (float), metinler (string), boolean değerler\n",
    "Değişkenler\n",
    "Verileri saklamak için kullanılan isimler\n",
    "Operatörler\n",
    "Aritmetik, karşılaştırma, mantıksal operatörler\n",
    "Matematiksel İşlemler\n",
    "Toplama, çıkarma, çarpma, bölme, üs alma gibi işlemler\n",
    "Döngüler\n",
    "Bir kod bloğunu belirli bir koşul sağlandığı veya belirli bir sayıda tekrarlamak için kullanılır.\n",
    "for döngüsü, while döngüsü\n",
    "Koşullu İfadeler\n",
    "Karar verme mekanizması\n",
    "if, else, elif anahtar kelimeleri"
   ]
  },
  {
   "cell_type": "markdown",
   "metadata": {},
   "source": []
  },
  {
   "cell_type": "markdown",
   "metadata": {},
   "source": []
  },
  {
   "cell_type": "code",
   "execution_count": null,
   "metadata": {},
   "outputs": [],
   "source": [
    "# Toplama (+)\n",
    "sayi1 = 10\n",
    "sayi2 = 5\n",
    "toplam = sayi1 + sayi2\n",
    "print(\"Toplam:\", toplam)  # Çıktı: Toplam: 15"
   ]
  },
  {
   "cell_type": "code",
   "execution_count": null,
   "metadata": {},
   "outputs": [],
   "source": []
  },
  {
   "cell_type": "code",
   "execution_count": null,
   "metadata": {},
   "outputs": [],
   "source": [
    "# Çıkarma (-)\n",
    "sayi1 = 20\n",
    "sayi2 = 7\n",
    "fark = sayi1 - sayi2\n",
    "print(\"Fark:\", fark)  # Çıktı: Fark: 13"
   ]
  },
  {
   "cell_type": "code",
   "execution_count": null,
   "metadata": {},
   "outputs": [],
   "source": []
  },
  {
   "cell_type": "code",
   "execution_count": null,
   "metadata": {},
   "outputs": [],
   "source": [
    "# Çarpma (*)\n",
    "sayi1 = 3\n",
    "sayi2 = 4\n",
    "carpim = sayi1 * sayi2\n",
    "print(\"Çarpım:\", carpim)  # Çıktı: Çarpım: 12"
   ]
  },
  {
   "cell_type": "code",
   "execution_count": null,
   "metadata": {},
   "outputs": [],
   "source": []
  },
  {
   "cell_type": "code",
   "execution_count": null,
   "metadata": {},
   "outputs": [],
   "source": [
    "# Bölme (/)\n",
    "sayi1 = 15\n",
    "sayi2 = 3\n",
    "bolum = sayi1 / sayi2\n",
    "print(\"Bölüm:\", bolum)  # Çıktı: Bölüm: 5.0 (Ondalıklı sayı)"
   ]
  },
  {
   "cell_type": "code",
   "execution_count": null,
   "metadata": {},
   "outputs": [],
   "source": []
  },
  {
   "cell_type": "code",
   "execution_count": null,
   "metadata": {},
   "outputs": [],
   "source": [
    "# Üs Alma (**)\n",
    "taban = 2\n",
    "us = 3\n",
    "sonuc = taban ** us\n",
    "print(sonuc)  # Çıktı: 8 (2 üzeri 3)"
   ]
  },
  {
   "cell_type": "code",
   "execution_count": null,
   "metadata": {},
   "outputs": [],
   "source": []
  },
  {
   "cell_type": "code",
   "execution_count": null,
   "metadata": {},
   "outputs": [],
   "source": [
    "# Tam Sayıya Bölme (//)\n",
    "sayi1 = 17\n",
    "sayi2 = 4\n",
    "tam_bolum = sayi1 // sayi2\n",
    "print(\"Tam bölüm:\", tam_bolum)  # Çıktı: Tam bölüm: 4 (Kalanı atar)"
   ]
  },
  {
   "cell_type": "code",
   "execution_count": null,
   "metadata": {},
   "outputs": [],
   "source": []
  },
  {
   "cell_type": "code",
   "execution_count": null,
   "metadata": {},
   "outputs": [],
   "source": [
    "# Mod Alma (%)\n",
    "sayi1 = 17\n",
    "sayi2 = 4\n",
    "kalan = sayi1 % sayi2\n",
    "print(\"Kalan:\", kalan)  # Çıktı: Kalan: 1"
   ]
  },
  {
   "cell_type": "code",
   "execution_count": null,
   "metadata": {},
   "outputs": [],
   "source": [
    "Karşılaştırma işlemleri"
   ]
  },
  {
   "cell_type": "code",
   "execution_count": null,
   "metadata": {},
   "outputs": [],
   "source": [
    "# == : Eşittir (İki değer birbirine eşitse True döner)\n",
    "# Eşitlik kontrolü\n",
    "x = 10\n",
    "y = 5\n",
    "print(x == y)  # False (Çünkü 10, 5'e eşit değil)"
   ]
  },
  {
   "cell_type": "code",
   "execution_count": null,
   "metadata": {},
   "outputs": [],
   "source": [
    "# != : Eşit Değildir (İki değer birbirine eşit değilse True döner)\n",
    "# Eşitsizlik kontrolü\n",
    "a = \"Merhaba\"\n",
    "b = \"Dünya\"\n",
    "print(a != b)  # True (Çünkü \"Merhaba\", \"Dünya\"ya eşit değil)"
   ]
  },
  {
   "cell_type": "code",
   "execution_count": null,
   "metadata": {},
   "outputs": [],
   "source": [
    "# > : Büyüktür (Sol taraf sağ taraftan büyükse True döner)\n",
    "# Büyüklük kontrolü\n",
    "c = 20\n",
    "d = 15\n",
    "print(c > d)  # True (Çünkü 20, 15'ten büyük)"
   ]
  },
  {
   "cell_type": "code",
   "execution_count": null,
   "metadata": {},
   "outputs": [],
   "source": [
    "# < : Küçüktür (Sol taraf sağ taraftan küçükse True döner)\n",
    "# Küçüklük kontrolü\n",
    "e = 3\n",
    "f = 7\n",
    "print(e < f)  # True (Çünkü 3, 7'den küçük)"
   ]
  },
  {
   "cell_type": "code",
   "execution_count": null,
   "metadata": {},
   "outputs": [],
   "source": [
    "# >= : Büyük Eşittir (Sol taraf sağ taraftan büyük veya eşitse True döner)\n",
    "# Büyük eşit kontrolü\n",
    "g = 10\n",
    "h = 10\n",
    "print(g >= h)  # True (Çünkü 10, 10'a eşit)"
   ]
  },
  {
   "cell_type": "code",
   "execution_count": null,
   "metadata": {},
   "outputs": [],
   "source": [
    "# <= : Küçük Eşittir (Sol taraf sağ taraftan küçük veya eşitse True döner)\n",
    "# Büyük eşit kontrolü\n",
    "g = 10\n",
    "h = 10\n",
    "print(g >= h)  # True (Çünkü 10, 10'a eşit)"
   ]
  },
  {
   "cell_type": "code",
   "execution_count": null,
   "metadata": {},
   "outputs": [],
   "source": [
    "# \n"
   ]
  },
  {
   "cell_type": "code",
   "execution_count": null,
   "metadata": {},
   "outputs": [],
   "source": []
  },
  {
   "cell_type": "code",
   "execution_count": null,
   "metadata": {},
   "outputs": [],
   "source": []
  },
  {
   "cell_type": "code",
   "execution_count": null,
   "metadata": {},
   "outputs": [],
   "source": []
  }
 ],
 "metadata": {
  "language_info": {
   "name": "python"
  }
 },
 "nbformat": 4,
 "nbformat_minor": 2
}
