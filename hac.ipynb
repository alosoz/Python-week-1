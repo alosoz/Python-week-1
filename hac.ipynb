{
 "cells": [
  {
   "cell_type": "markdown",
   "metadata": {},
   "source": [
    "https://www.hackerrank.com/challenges/python-arithmetic-operators/problem"
   ]
  },
  {
   "cell_type": "code",
   "execution_count": null,
   "metadata": {},
   "outputs": [],
   "source": [
    "a = int(input())\n",
    "b = int(input())\n",
    "\n",
    "# Toplama işlemi\n",
    "toplam = a + b\n",
    "\n",
    "# Çıkarma işlemi\n",
    "fark = a - b\n",
    "\n",
    "# Çarpma işlemi\n",
    "carpim = a * b\n",
    "\n",
    "# Sonuçları ekrana yazdırma\n",
    "print(toplam)\n",
    "print(fark)\n",
    "print(carpim)"
   ]
  },
  {
   "cell_type": "markdown",
   "metadata": {},
   "source": [
    "https://www.hackerrank.com/challenges/find-second-maximum-number-in-a-list/problem"
   ]
  },
  {
   "cell_type": "code",
   "execution_count": null,
   "metadata": {},
   "outputs": [],
   "source": [
    "if __name__ == '__main__':\n",
    "    n = int(input())\n",
    "    arr = map(int, input().split())\n",
    "\n",
    "\n",
    "unique_scores=sorted(set(arr), reverse=True)    # sayilari siralar ve tekrar edenleri siler\n",
    "\n",
    "runnerup_score=unique_scores[1]   # 1 indexte ki sayi ikinci sayidir\n",
    "\n",
    "print(runnerup_score)"
   ]
  },
  {
   "cell_type": "markdown",
   "metadata": {},
   "source": [
    "https://www.hackerrank.com/challenges/python-print/problem"
   ]
  },
  {
   "cell_type": "code",
   "execution_count": null,
   "metadata": {},
   "outputs": [],
   "source": [
    "if __name__ == '__main__':\n",
    "    n = int(input())\n",
    "    \n",
    "for i in range(1,n+1):\n",
    "    print(i, end=\"\")"
   ]
  },
  {
   "cell_type": "markdown",
   "metadata": {},
   "source": [
    "https://www.hackerrank.com/challenges/finding-the-percentage/problem"
   ]
  },
  {
   "cell_type": "code",
   "execution_count": null,
   "metadata": {},
   "outputs": [],
   "source": [
    "if __name__ == '__main__':\n",
    "    n = int(input())\n",
    "    student_marks = {}\n",
    "    for _ in range(n):\n",
    "        name, *line = input().split()\n",
    "        scores = list(map(float, line))\n",
    "        student_marks[name] = scores\n",
    "    query_name = input()\n",
    "\n",
    "    \n",
    "    dict = {\"ali\":[30,60,50],\"veli\":[30,10,90]}  # kendim bir input liste girdim denemek icin calisiyor mu diye!\n",
    "    \n",
    "    for key, value  in student_marks.items():\n",
    "        if query_name == key:\n",
    "            toplam = 0\n",
    "            not_sayisi = 0\n",
    "            for i in value:\n",
    "                toplam += i\n",
    "                not_sayisi += 1\n",
    "            ortalama = toplam/not_sayisi\n",
    "            print(\"{:.2f}\".format(ortalama))"
   ]
  }
 ],
 "metadata": {
  "language_info": {
   "name": "python"
  }
 },
 "nbformat": 4,
 "nbformat_minor": 2
}
